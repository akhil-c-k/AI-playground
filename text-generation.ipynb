import openai
import config

api_key = config.api_key
openai.api_key = api_key

def generate_text(prompt):
    response = openai.chat.completions.create(
        model="gpt-3.5-turbo",  # or "gpt-4" if you have access
        messages=[
            {"role": "system", "content": "You are a helpful assistant."},
            {"role": "user", "content": prompt}
        ],
        max_tokens=50,
        temperature=0.7
    )
    
    return response.choices[0].message.content.strip()

    prompt="Once upon a time"

    generated_text = generate_text(prompt)
print(prompt,generated_text)

